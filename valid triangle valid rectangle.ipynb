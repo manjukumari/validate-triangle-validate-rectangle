{
 "cells": [
  {
   "cell_type": "code",
   "execution_count": 7,
   "id": "d693c83b",
   "metadata": {
    "scrolled": true
   },
   "outputs": [
    {
     "name": "stdout",
     "output_type": "stream",
     "text": [
      "3 4 5\n",
      "12 3 12 3\n",
      "Valid Triangle\n",
      "Valid Rectangle\n"
     ]
    }
   ],
   "source": [
    "class Triangle():\n",
    "    def __init__(self,lst):\n",
    "        self.lst=lst\n",
    "    def validate_triangle(self,l):\n",
    "        if len(l)==3 and (l[0]+l[1])>l[2]:\n",
    "            return \"Valid Triangle\"         \n",
    "        else:\n",
    "            return \"Invalid Triangle\"\n",
    "class Rectangle():\n",
    "    def __init__(self,lst):\n",
    "        self.lst=lst\n",
    "    def validate_rectangle(self,l):\n",
    "        if len(l)==4 and  (l[0]==l[2]) and (l[1]==l[3]):\n",
    "            return \"Valid Rectangle\"         \n",
    "        else:\n",
    "            return \"Invalid Rectangle\"\n",
    "s=list(map(int,input().split()))\n",
    "t=list(map(int,input().split()))\n",
    "A=Triangle(s)       \n",
    "print(A.validate_triangle(s))\n",
    "B=Rectangle(t)\n",
    "print(B.validate_rectangle(t))"
   ]
  }
 ],
 "metadata": {
  "kernelspec": {
   "display_name": "Python 3 (ipykernel)",
   "language": "python",
   "name": "python3"
  },
  "language_info": {
   "codemirror_mode": {
    "name": "ipython",
    "version": 3
   },
   "file_extension": ".py",
   "mimetype": "text/x-python",
   "name": "python",
   "nbconvert_exporter": "python",
   "pygments_lexer": "ipython3",
   "version": "3.9.7"
  }
 },
 "nbformat": 4,
 "nbformat_minor": 5
}
